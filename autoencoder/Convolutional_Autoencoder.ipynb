{
 "cells": [
  {
   "cell_type": "markdown",
   "metadata": {
    "deletable": true,
    "editable": true
   },
   "source": [
    "# Convolutional Autoencoder\n",
    "\n",
    "Sticking with the MNIST dataset, let's improve our autoencoder's performance using convolutional layers. Again, loading modules and the data."
   ]
  },
  {
   "cell_type": "code",
   "execution_count": 1,
   "metadata": {
    "collapsed": true,
    "deletable": true,
    "editable": true
   },
   "outputs": [],
   "source": [
    "%matplotlib inline\n",
    "\n",
    "import numpy as np\n",
    "import tensorflow as tf\n",
    "import matplotlib.pyplot as plt"
   ]
  },
  {
   "cell_type": "code",
   "execution_count": 2,
   "metadata": {
    "collapsed": false,
    "deletable": true,
    "editable": true
   },
   "outputs": [
    {
     "name": "stdout",
     "output_type": "stream",
     "text": [
      "Extracting MNIST_data/train-images-idx3-ubyte.gz\n",
      "Extracting MNIST_data/train-labels-idx1-ubyte.gz\n",
      "Extracting MNIST_data/t10k-images-idx3-ubyte.gz\n",
      "Extracting MNIST_data/t10k-labels-idx1-ubyte.gz\n"
     ]
    }
   ],
   "source": [
    "from tensorflow.examples.tutorials.mnist import input_data\n",
    "mnist = input_data.read_data_sets('MNIST_data', validation_size=0)"
   ]
  },
  {
   "cell_type": "code",
   "execution_count": 3,
   "metadata": {
    "collapsed": false,
    "deletable": true,
    "editable": true
   },
   "outputs": [
    {
     "data": {
      "text/plain": [
       "<matplotlib.image.AxesImage at 0x7fe687357828>"
      ]
     },
     "execution_count": 3,
     "metadata": {},
     "output_type": "execute_result"
    },
    {
     "data": {
      "image/png": "[encoded data removed]",
      "text/plain": [
       "<matplotlib.figure.Figure at 0x7fe69077e6d8>"
      ]
     },
     "metadata": {},
     "output_type": "display_data"
    }
   ],
   "source": [
    "img = mnist.train.images[2]\n",
    "plt.imshow(img.reshape((28, 28)), cmap='Greys_r')"
   ]
  },
  {
   "cell_type": "markdown",
   "metadata": {
    "deletable": true,
    "editable": true
   },
   "source": [
    "## Network Architecture\n",
    "\n",
    "The encoder part of the network will be a typical convolutional pyramid. Each convolutional layer will be followed by a max-pooling layer to reduce the dimensions of the layers. The decoder though might be something new to you. The decoder needs to convert from a narrow representation to a wide reconstructed image. For example, the representation could be a 4x4x8 max-pool layer. This is the output of the encoder, but also the input to the decoder. We want to get a 28x28x1 image out from the decoder so we need to work our way back up from the narrow decoder input layer. A schematic of the network is shown below.\n",
    "\n",
    "![Convolutional Autoencoder](assets/convolutional_autoencoder.png)\n",
    "\n",
    "Here our final encoder layer has size 4x4x8 = 128. The original images have size 28x28 = 784, so the encoded vector is roughly 16% the size of the original image. These are just suggested sizes for each of the layers. Feel free to change the depths and sizes, but remember our goal here is to find a small representation of the input data.\n",
    "\n",
    "### What's going on with the decoder\n",
    "\n",
    "Okay, so the decoder has these \"Upsample\" layers that you might not have seen before. First off, I'll discuss a bit what these layers *aren't*. Usually, you'll see **deconvolutional** layers used to increase the width and height of the layers. They work almost exactly the same as convolutional layers, but it reverse. A stride in the input layer results in a larger stride in the deconvolutional layer. For example, if you have a 3x3 kernel, a 3x3 patch in the input layer will be reduced to one unit in a convolutional layer. Comparatively, one unit in the input layer will be expanded to a 3x3 path in a deconvolutional layer. Deconvolution is often called \"transpose convolution\" which is what you'll find with the TensorFlow API, with [`tf.nn.conv2d_transpose`](https://www.tensorflow.org/api_docs/python/tf/nn/conv2d_transpose). \n",
    "\n",
    "However, deconvolutional layers can lead to artifacts in the final images, such as checkerboard patterns. This is due to overlap in the kernels which can be avoided by setting the stride and kernel size equal. In [this Distill article](http://distill.pub/2016/deconv-checkerboard/) from Augustus Odena, *et al*, the authors show that these checkerboard artifacts can be avoided by resizing the layers using nearest neighbor or bilinear interpolation (upsampling) followed by a convolutional layer. In TensorFlow, this is easily done with [`tf.image.resize_images`](https://www.tensorflow.org/versions/r1.1/api_docs/python/tf/image/resize_images), followed by a convolution. Be sure to read the Distill article to get a better understanding of deconvolutional layers and why we're using upsampling.\n",
    "\n",
    "> **Exercise:** Build the network shown above. Remember that a convolutional layer with strides of 1 and 'same' padding won't reduce the height and width. That is, if the input is 28x28 and the convolution layer has stride = 1 and 'same' padding, the convolutional layer will also be 28x28. The max-pool layers are used the reduce the width and height. A stride of 2 will reduce the size by 2. Odena *et al* claim that nearest neighbor interpolation works best for the upsampling, so make sure to include that as a parameter in `tf.image.resize_images` or use [`tf.image.resize_nearest_neighbor`]( `https://www.tensorflow.org/api_docs/python/tf/image/resize_nearest_neighbor)."
   ]
  },
  {
   "cell_type": "code",
   "execution_count": 4,
   "metadata": {
    "collapsed": false,
    "deletable": true,
    "editable": true
   },
   "outputs": [
    {
     "name": "stdout",
     "output_type": "stream",
     "text": [
      "encoded:  (?, 4, 4, 8)\n"
     ]
    }
   ],
   "source": [
    "learning_rate = 0.001\n",
    "inputs_ = tf.placeholder(dtype=tf.float32, shape=(None, 28, 28, 1), name='inputs')\n",
    "targets_ = tf.placeholder(dtype=tf.float32, shape=(None, 28, 28, 1), name='targets')\n",
    "\n",
    "### Encoder\n",
    "conv1 = tf.layers.conv2d(\n",
    "    inputs_, filters=16, kernel_size=(3,3), padding='same', activation=tf.nn.relu)\n",
    "# Now 28x28x16\n",
    "#maxpool1 = tf.layers.max_pooling2d(conv1, pool_size=(2,2), strides=(2,2), padding='same')\n",
    "maxpool1 = tf.nn.max_pool(conv1, ksize=[1,2,2,1], strides=[1,2,2,1], padding='SAME')\n",
    "# Now 14x14x16\n",
    "conv2 = tf.layers.conv2d(\n",
    "    maxpool1, filters=8, kernel_size=(3,3), padding='same', activation=tf.nn.relu)\n",
    "# Now 14x14x8\n",
    "maxpool2 = tf.nn.max_pool(conv2, ksize=[1,2,2,1], strides=[1,2,2,1], padding='SAME')\n",
    "# Now 7x7x8\n",
    "conv3 = tf.layers.conv2d(\n",
    "    maxpool2, filters=8, kernel_size=(3,3), padding='same', activation=tf.nn.relu)\n",
    "# Now 7x7x8\n",
    "encoded = tf.nn.max_pool(conv3, ksize=[1,3,3,1], strides=[1,2,2,1], padding='SAME')\n",
    "# Now 4x4x8\n",
    "print(\"encoded: \", encoded.shape)\n",
    "\n",
    "### Decoder\n",
    "upsample1 = tf.image.resize_nearest_neighbor(encoded, size=(7, 7))\n",
    "# Now 7x7x8\n",
    "conv4 = tf.layers.conv2d(\n",
    "    upsample1, filters=8, kernel_size=(3,3), \n",
    "    strides=(1,1), padding='same', activation=tf.nn.relu)\n",
    "# Now 7x7x8\n",
    "upsample2 = tf.image.resize_nearest_neighbor(conv4, size=(14,14))\n",
    "# Now 14x14x8\n",
    "conv5 = tf.layers.conv2d(\n",
    "    upsample2, filters=8, kernel_size=(3,3), \n",
    "    strides=(1,1), padding='same', activation=tf.nn.relu)\n",
    "# Now 14x14x8\n",
    "upsample3 = tf.image.resize_nearest_neighbor(conv5, size=(28,28))\n",
    "# Now 28x28x8\n",
    "conv6 = tf.layers.conv2d(\n",
    "    upsample3, filters=16, kernel_size=(3,3), \n",
    "    strides=(1,1), padding='same', activation=tf.nn.relu)\n",
    "# Now 28x28x16\n",
    "\n",
    "logits = tf.layers.conv2d(\n",
    "    conv6, filters=1, kernel_size=(3,3), \n",
    "    strides=(1,1), padding='same', activation=None)\n",
    "#Now 28x28x1\n",
    "\n",
    "# Pass logits through sigmoid to get reconstructed image\n",
    "decoded = tf.sigmoid(logits, name='decoded')\n",
    "\n",
    "# Pass logits through sigmoid and calculate the cross-entropy loss\n",
    "loss = tf.nn.sigmoid_cross_entropy_with_logits(labels=targets_, logits=logits, name='loss')\n",
    "\n",
    "# Get cost and define the optimizer\n",
    "cost = tf.reduce_mean(loss)\n",
    "opt = tf.train.AdamOptimizer(learning_rate).minimize(cost)"
   ]
  },
  {
   "cell_type": "markdown",
   "metadata": {
    "deletable": true,
    "editable": true
   },
   "source": [
    "## Training\n",
    "\n",
    "As before, here wi'll train the network. Instead of flattening the images though, we can pass them in as 28x28x1 arrays."
   ]
  },
  {
   "cell_type": "code",
   "execution_count": 5,
   "metadata": {
    "collapsed": true,
    "deletable": true,
    "editable": true
   },
   "outputs": [],
   "source": [
    "sess = tf.Session()"
   ]
  },
  {
   "cell_type": "code",
   "execution_count": 6,
   "metadata": {
    "collapsed": false,
    "deletable": true,
    "editable": true,
    "scrolled": true
   },
   "outputs": [
    {
     "name": "stdout",
     "output_type": "stream",
     "text": [
      "Epoch: 1/20... Training loss: 0.1771\n",
      "Epoch: 2/20... Training loss: 0.1509\n",
      "Epoch: 3/20... Training loss: 0.1367\n",
      "Epoch: 4/20... Training loss: 0.1325\n",
      "Epoch: 5/20... Training loss: 0.1310\n",
      "Epoch: 6/20... Training loss: 0.1189\n",
      "Epoch: 7/20... Training loss: 0.1198\n",
      "Epoch: 8/20... Training loss: 0.1170\n",
      "Epoch: 9/20... Training loss: 0.1142\n",
      "Epoch: 10/20... Training loss: 0.1177\n",
      "Epoch: 11/20... Training loss: 0.1197\n",
      "Epoch: 12/20... Training loss: 0.1170\n",
      "Epoch: 13/20... Training loss: 0.1126\n",
      "Epoch: 14/20... Training loss: 0.1163\n",
      "Epoch: 15/20... Training loss: 0.1097\n",
      "Epoch: 16/20... Training loss: 0.1103\n",
      "Epoch: 17/20... Training loss: 0.1095\n",
      "Epoch: 18/20... Training loss: 0.1127\n",
      "Epoch: 19/20... Training loss: 0.1054\n",
      "Epoch: 20/20... Training loss: 0.1133\n"
     ]
    }
   ],
   "source": [
    "epochs = 20\n",
    "batch_size = 200\n",
    "sess.run(tf.global_variables_initializer())\n",
    "for e in range(epochs):\n",
    "    for ii in range(mnist.train.num_examples//batch_size):\n",
    "        batch = mnist.train.next_batch(batch_size)\n",
    "        imgs = batch[0].reshape((-1, 28, 28, 1))\n",
    "        batch_cost, _ = sess.run([cost, opt], feed_dict={inputs_: imgs,\n",
    "                                                         targets_: imgs})\n",
    "\n",
    "    print(\"Epoch: {}/{}...\".format(e+1, epochs),\n",
    "          \"Training loss: {:.4f}\".format(batch_cost))"
   ]
  },
  {
   "cell_type": "code",
   "execution_count": 7,
   "metadata": {
    "collapsed": false,
    "deletable": true,
    "editable": true
   },
   "outputs": [
    {
     "data": {
      "image/png": "[encoded data removed]",
      "text/plain": [
       "<matplotlib.figure.Figure at 0x7fe6872c2748>"
      ]
     },
     "metadata": {},
     "output_type": "display_data"
    }
   ],
   "source": [
    "fig, axes = plt.subplots(nrows=2, ncols=10, sharex=True, sharey=True, figsize=(20,4))\n",
    "in_imgs = mnist.test.images[:10]\n",
    "reconstructed = sess.run(decoded, feed_dict={inputs_: in_imgs.reshape((10, 28, 28, 1))})\n",
    "\n",
    "for images, row in zip([in_imgs, reconstructed], axes):\n",
    "    for img, ax in zip(images, row):\n",
    "        ax.imshow(img.reshape((28, 28)), cmap='Greys_r')\n",
    "        ax.get_xaxis().set_visible(False)\n",
    "        ax.get_yaxis().set_visible(False)\n",
    "\n",
    "\n",
    "fig.tight_layout(pad=0.1)"
   ]
  },
  {
   "cell_type": "code",
   "execution_count": 8,
   "metadata": {
    "collapsed": true,
    "deletable": true,
    "editable": true
   },
   "outputs": [],
   "source": [
    "sess.close()"
   ]
  },
  {
   "cell_type": "markdown",
   "metadata": {
    "deletable": true,
    "editable": true
   },
   "source": [
    "## Denoising\n",
    "\n",
    "As I've mentioned before, autoencoders like the ones you've built so far aren't too useful in practive. However, they can be used to denoise images quite successfully just by training the network on noisy images. We can create the noisy images ourselves by adding Gaussian noise to the training images, then clipping the values to be between 0 and 1. We'll use noisy images as input and the original, clean images as targets. Here's an example of the noisy images I generated and the denoised images.\n",
    "\n",
    "![Denoising autoencoder](assets/denoising.png)\n",
    "\n",
    "\n",
    "Since this is a harder problem for the network, we'll want to use deeper convolutional layers here, more feature maps. I suggest something like 32-32-16 for the depths of the convolutional layers in the encoder, and the same depths going backward through the decoder. Otherwise the architecture is the same as before.\n",
    "\n",
    "> **Exercise:** Build the network for the denoising autoencoder. It's the same as before, but with deeper layers. I suggest 32-32-16 for the depths, but you can play with these numbers, or add more layers."
   ]
  },
  {
   "cell_type": "code",
   "execution_count": 9,
   "metadata": {
    "collapsed": true,
    "deletable": true,
    "editable": true
   },
   "outputs": [],
   "source": [
    "learning_rate = 0.001\n",
    "inputs_ = tf.placeholder(tf.float32, (None, 28, 28, 1), name='inputs')\n",
    "targets_ = tf.placeholder(tf.float32, (None, 28, 28, 1), name='targets')\n",
    "\n",
    "### Encoder\n",
    "conv1 = tf.layers.conv2d(inputs_, 32, (3,3), padding='same', activation=tf.nn.relu)\n",
    "# Now 28x28x32\n",
    "maxpool1 = tf.layers.max_pooling2d(conv1, pool_size=(2,2), strides=(2,2), padding='same')\n",
    "# Now 14x14x32\n",
    "conv2 = tf.layers.conv2d(maxpool1, 32, (3,3), padding='same', activation=tf.nn.relu)\n",
    "# Now 14x14x32\n",
    "maxpool2 = tf.layers.max_pooling2d(conv2, pool_size=(2,2), strides=(2,2), padding='same')\n",
    "# Now 7x7x32\n",
    "conv3 = tf.layers.conv2d(maxpool2, 16, (3,3), padding='same', activation=tf.nn.relu)\n",
    "# Now 7x7x16\n",
    "encoded = tf.layers.max_pooling2d(conv3, pool_size=(3,3), strides=(2,2), padding='same')\n",
    "# Now 4x4x16\n",
    "\n",
    "### Decoder\n",
    "upsample1 = tf.image.resize_nearest_neighbor(encoded, size=(7, 7))\n",
    "# Now 7x7x16\n",
    "conv4 = tf.layers.conv2d(upsample1, 16, (3,3), (1,1), padding='same', activation=tf.nn.relu)\n",
    "# Now 7x7x16\n",
    "upsample2 = tf.image.resize_nearest_neighbor(conv4, size=(14, 14))\n",
    "# Now 14x14x16\n",
    "conv5 = tf.layers.conv2d(upsample2, 32, (3,3), (1,1), padding='same', activation=tf.nn.relu)\n",
    "# Now 14x14x32\n",
    "upsample3 = tf.image.resize_nearest_neighbor(conv5, size=(28, 28))\n",
    "# Now 28x28x32\n",
    "conv6 = tf.layers.conv2d(upsample3, 32, (3,3), (1,1), padding='same', activation=tf.nn.relu)\n",
    "# Now 28x28x32\n",
    "\n",
    "logits = tf.layers.conv2d(conv6, 1, (3,3), padding='same', activation=None)\n",
    "#Now 28x28x1\n",
    "\n",
    "# Pass logits through sigmoid to get reconstructed image\n",
    "decoded = tf.sigmoid(logits, name='decoded')\n",
    "\n",
    "# Pass logits through sigmoid and calculate the cross-entropy loss\n",
    "loss = tf.nn.sigmoid_cross_entropy_with_logits(labels=targets_, logits=logits, name='loss_denoising')\n",
    "\n",
    "# Get cost and define the optimizer\n",
    "cost = tf.reduce_mean(loss)\n",
    "opt = tf.train.AdamOptimizer(learning_rate).minimize(cost)"
   ]
  },
  {
   "cell_type": "code",
   "execution_count": 10,
   "metadata": {
    "collapsed": true,
    "deletable": true,
    "editable": true
   },
   "outputs": [],
   "source": [
    "sess = tf.Session()"
   ]
  },
  {
   "cell_type": "code",
   "execution_count": 12,
   "metadata": {
    "collapsed": false,
    "deletable": true,
    "editable": true,
    "scrolled": true
   },
   "outputs": [
    {
     "name": "stdout",
     "output_type": "stream",
     "text": [
      "Epoch: 1/100... Training loss: 0.1825\n",
      "Epoch: 2/100... Training loss: 0.1521\n",
      "Epoch: 3/100... Training loss: 0.1463\n",
      "Epoch: 4/100... Training loss: 0.1355\n",
      "Epoch: 5/100... Training loss: 0.1383\n",
      "Epoch: 6/100... Training loss: 0.1306\n",
      "Epoch: 7/100... Training loss: 0.1271\n",
      "Epoch: 8/100... Training loss: 0.1212\n",
      "Epoch: 9/100... Training loss: 0.1227\n",
      "Epoch: 10/100... Training loss: 0.1231\n",
      "Epoch: 11/100... Training loss: 0.1202\n",
      "Epoch: 12/100... Training loss: 0.1190\n",
      "Epoch: 13/100... Training loss: 0.1197\n",
      "Epoch: 14/100... Training loss: 0.1152\n",
      "Epoch: 15/100... Training loss: 0.1165\n",
      "Epoch: 16/100... Training loss: 0.1179\n",
      "Epoch: 17/100... Training loss: 0.1124\n",
      "Epoch: 18/100... Training loss: 0.1140\n",
      "Epoch: 19/100... Training loss: 0.1148\n",
      "Epoch: 20/100... Training loss: 0.1061\n",
      "Epoch: 21/100... Training loss: 0.1114\n",
      "Epoch: 22/100... Training loss: 0.1119\n",
      "Epoch: 23/100... Training loss: 0.1112\n",
      "Epoch: 24/100... Training loss: 0.1092\n",
      "Epoch: 25/100... Training loss: 0.1136\n",
      "Epoch: 26/100... Training loss: 0.1066\n",
      "Epoch: 27/100... Training loss: 0.1141\n",
      "Epoch: 28/100... Training loss: 0.1106\n",
      "Epoch: 29/100... Training loss: 0.1095\n",
      "Epoch: 30/100... Training loss: 0.1128\n",
      "Epoch: 31/100... Training loss: 0.1111\n",
      "Epoch: 32/100... Training loss: 0.1070\n",
      "Epoch: 33/100... Training loss: 0.1120\n",
      "Epoch: 34/100... Training loss: 0.1088\n",
      "Epoch: 35/100... Training loss: 0.1115\n",
      "Epoch: 36/100... Training loss: 0.1097\n",
      "Epoch: 37/100... Training loss: 0.1092\n",
      "Epoch: 38/100... Training loss: 0.1066\n",
      "Epoch: 39/100... Training loss: 0.1030\n",
      "Epoch: 40/100... Training loss: 0.1054\n",
      "Epoch: 41/100... Training loss: 0.1059\n",
      "Epoch: 42/100... Training loss: 0.1054\n",
      "Epoch: 43/100... Training loss: 0.1062\n",
      "Epoch: 44/100... Training loss: 0.1093\n",
      "Epoch: 45/100... Training loss: 0.1033\n",
      "Epoch: 46/100... Training loss: 0.1076\n",
      "Epoch: 47/100... Training loss: 0.1088\n",
      "Epoch: 48/100... Training loss: 0.1062\n",
      "Epoch: 49/100... Training loss: 0.1021\n",
      "Epoch: 50/100... Training loss: 0.1069\n",
      "Epoch: 51/100... Training loss: 0.1063\n",
      "Epoch: 52/100... Training loss: 0.1032\n",
      "Epoch: 53/100... Training loss: 0.1008\n",
      "Epoch: 54/100... Training loss: 0.1074\n",
      "Epoch: 55/100... Training loss: 0.1086\n",
      "Epoch: 56/100... Training loss: 0.1084\n",
      "Epoch: 57/100... Training loss: 0.1015\n",
      "Epoch: 58/100... Training loss: 0.1048\n",
      "Epoch: 59/100... Training loss: 0.1066\n",
      "Epoch: 60/100... Training loss: 0.1061\n",
      "Epoch: 61/100... Training loss: 0.1081\n",
      "Epoch: 62/100... Training loss: 0.1030\n",
      "Epoch: 63/100... Training loss: 0.1056\n",
      "Epoch: 64/100... Training loss: 0.1026\n",
      "Epoch: 65/100... Training loss: 0.1060\n",
      "Epoch: 66/100... Training loss: 0.1065\n",
      "Epoch: 67/100... Training loss: 0.1016\n",
      "Epoch: 68/100... Training loss: 0.1053\n",
      "Epoch: 69/100... Training loss: 0.1093\n",
      "Epoch: 70/100... Training loss: 0.1051\n",
      "Epoch: 71/100... Training loss: 0.1062\n",
      "Epoch: 72/100... Training loss: 0.1017\n",
      "Epoch: 73/100... Training loss: 0.1030\n",
      "Epoch: 74/100... Training loss: 0.1041\n",
      "Epoch: 75/100... Training loss: 0.1039\n",
      "Epoch: 76/100... Training loss: 0.1015\n",
      "Epoch: 77/100... Training loss: 0.1053\n",
      "Epoch: 78/100... Training loss: 0.1055\n",
      "Epoch: 79/100... Training loss: 0.1027\n",
      "Epoch: 80/100... Training loss: 0.1010\n",
      "Epoch: 81/100... Training loss: 0.1040\n",
      "Epoch: 82/100... Training loss: 0.1038\n",
      "Epoch: 83/100... Training loss: 0.1047\n",
      "Epoch: 84/100... Training loss: 0.1060\n",
      "Epoch: 85/100... Training loss: 0.0997\n",
      "Epoch: 86/100... Training loss: 0.1019\n",
      "Epoch: 87/100... Training loss: 0.1020\n",
      "Epoch: 88/100... Training loss: 0.1016\n",
      "Epoch: 89/100... Training loss: 0.1034\n",
      "Epoch: 90/100... Training loss: 0.1092\n",
      "Epoch: 91/100... Training loss: 0.1033\n",
      "Epoch: 92/100... Training loss: 0.1011\n",
      "Epoch: 93/100... Training loss: 0.1023\n",
      "Epoch: 94/100... Training loss: 0.0986\n",
      "Epoch: 95/100... Training loss: 0.1027\n",
      "Epoch: 96/100... Training loss: 0.1046\n",
      "Epoch: 97/100... Training loss: 0.1092\n",
      "Epoch: 98/100... Training loss: 0.1011\n",
      "Epoch: 99/100... Training loss: 0.1028\n",
      "Epoch: 100/100... Training loss: 0.1024\n"
     ]
    }
   ],
   "source": [
    "epochs = 100\n",
    "batch_size = 200\n",
    "# Set's how much noise we're adding to the MNIST images\n",
    "noise_factor = 0.5\n",
    "sess.run(tf.global_variables_initializer())\n",
    "for e in range(epochs):\n",
    "    for ii in range(mnist.train.num_examples//batch_size):\n",
    "        batch = mnist.train.next_batch(batch_size)\n",
    "        # Get images from the batch\n",
    "        imgs = batch[0].reshape((-1, 28, 28, 1))\n",
    "        \n",
    "        # Add random noise to the input images\n",
    "        noisy_imgs = imgs + noise_factor * np.random.randn(*imgs.shape)\n",
    "        # Clip the images to be between 0 and 1\n",
    "        noisy_imgs = np.clip(noisy_imgs, 0., 1.)\n",
    "        \n",
    "        # Noisy images as inputs, original images as targets\n",
    "        batch_cost, _ = sess.run([cost, opt], feed_dict={inputs_: noisy_imgs,\n",
    "                                                         targets_: imgs})\n",
    "\n",
    "    print(\"Epoch: {}/{}...\".format(e+1, epochs),\n",
    "          \"Training loss: {:.4f}\".format(batch_cost))"
   ]
  },
  {
   "cell_type": "markdown",
   "metadata": {
    "deletable": true,
    "editable": true
   },
   "source": [
    "## Checking out the performance\n",
    "\n",
    "Here I'm adding noise to the test images and passing them through the autoencoder. It does a suprisingly great job of removing the noise, even though it's sometimes difficult to tell what the original number is."
   ]
  },
  {
   "cell_type": "code",
   "execution_count": 13,
   "metadata": {
    "collapsed": false,
    "deletable": true,
    "editable": true
   },
   "outputs": [
    {
     "data": {
      "image/png": "[encoded data removed]",
      "text/plain": [
       "<matplotlib.figure.Figure at 0x7fe67ab90320>"
      ]
     },
     "metadata": {},
     "output_type": "display_data"
    }
   ],
   "source": [
    "fig, axes = plt.subplots(nrows=2, ncols=10, sharex=True, sharey=True, figsize=(20,4))\n",
    "in_imgs = mnist.test.images[:10]\n",
    "noisy_imgs = in_imgs + noise_factor * np.random.randn(*in_imgs.shape)\n",
    "noisy_imgs = np.clip(noisy_imgs, 0., 1.)\n",
    "\n",
    "reconstructed = sess.run(decoded, feed_dict={inputs_: noisy_imgs.reshape((10, 28, 28, 1))})\n",
    "\n",
    "for images, row in zip([noisy_imgs, reconstructed], axes):\n",
    "    for img, ax in zip(images, row):\n",
    "        ax.imshow(img.reshape((28, 28)), cmap='Greys_r')\n",
    "        ax.get_xaxis().set_visible(False)\n",
    "        ax.get_yaxis().set_visible(False)\n",
    "\n",
    "fig.tight_layout(pad=0.1)"
   ]
  },
  {
   "cell_type": "code",
   "execution_count": null,
   "metadata": {
    "collapsed": true
   },
   "outputs": [],
   "source": []
  }
 ],
 "metadata": {
  "kernelspec": {
   "display_name": "Python 3",
   "language": "python",
   "name": "python3"
  },
  "language_info": {
   "codemirror_mode": {
    "name": "ipython",
    "version": 3
   },
   "file_extension": ".py",
   "mimetype": "text/x-python",
   "name": "python",
   "nbconvert_exporter": "python",
   "pygments_lexer": "ipython3",
   "version": "3.5.2"
  },
  "widgets": {
   "state": {},
   "version": "1.1.2"
  }
 },
 "nbformat": 4,
 "nbformat_minor": 2
}
